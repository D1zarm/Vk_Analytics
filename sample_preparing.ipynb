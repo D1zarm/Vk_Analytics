{
 "cells": [
  {
   "cell_type": "code",
   "execution_count": 1,
   "metadata": {},
   "outputs": [],
   "source": [
    "from sample_preparing import user_info_verification as av\n",
    "from matplotlib import pyplot as plt\n",
    "import numpy as np"
   ]
  },
  {
   "cell_type": "code",
   "execution_count": 47,
   "metadata": {},
   "outputs": [],
   "source": [
    "females1, males1, female_ages1 = av.read_sample_files('Sample/Intermediate_results/1-all_users.txt','Sample/Intermediate_results/1-all_pairs.txt','Sample/Intermediate_results/1-all_ages.txt')"
   ]
  },
  {
   "cell_type": "markdown",
   "metadata": {},
   "source": [
    "Histogram of all verified users"
   ]
  },
  {
   "cell_type": "code",
   "execution_count": 48,
   "metadata": {
    "scrolled": true
   },
   "outputs": [
    {
     "data": {
      "image/png": "[encoded data removed]",
      "text/plain": [
       "<Figure size 1152x576 with 1 Axes>"
      ]
     },
     "metadata": {
      "needs_background": "light"
     },
     "output_type": "display_data"
    }
   ],
   "source": [
    "users, pairs, ages = av.group_sort(females1, males1, female_ages1, count = 200)"
   ]
  },
  {
   "cell_type": "code",
   "execution_count": 49,
   "metadata": {},
   "outputs": [
    {
     "name": "stdout",
     "output_type": "stream",
     "text": [
      "        VK ID ПОЛ ДАТА РОЖДЕНИЯ ССЫЛКА НА ПАРТНЁРА\n",
      "5   338146480   М          2003          398031321\n",
      "16  458157574   М          2003          421930610\n",
      "26  528136454   М          2005          477743268\n",
      "29  568127843   М          2003          546538435\n",
      "31  308123825   М          2005          334552771\n",
      "\n",
      "Length: 16449\n"
     ]
    }
   ],
   "source": [
    "sch_males, sch_pairs, sch_ages = av.read_csv('Sample/schoolers_with_pairs.csv')\n",
    "print ('\\nLength: {}'.format(len(sch_ages)))"
   ]
  },
  {
   "cell_type": "code",
   "execution_count": 50,
   "metadata": {},
   "outputs": [
    {
     "data": {
      "image/png": "[encoded data removed]",
      "text/plain": [
       "<Figure size 432x288 with 1 Axes>"
      ]
     },
     "metadata": {
      "needs_background": "light"
     },
     "output_type": "display_data"
    }
   ],
   "source": [
    "sch_ages = [2020 - int(age) for age in sch_ages]\n",
    "plt.hist(sch_ages, bins=np.arange(10,20), alpha=0.5)\n",
    "plt.show()\n"
   ]
  },
  {
   "cell_type": "markdown",
   "metadata": {},
   "source": [
    "Merge verified schoolers with all verified people"
   ]
  },
  {
   "cell_type": "code",
   "execution_count": 57,
   "metadata": {},
   "outputs": [],
   "source": [
    "v_sch_fem, v_sch_mal, v_sch_ages = av.read_sample_files('Sample/Intermediate_results/2-veryfied_schoolers_females.txt',\n",
    "                                                        'Sample/Intermediate_results/2-schoolers_with_verified_pairs.txt',\n",
    "                                                        'Sample/Intermediate_results/2-schoolers-females_ages.txt')"
   ]
  },
  {
   "cell_type": "code",
   "execution_count": 61,
   "metadata": {},
   "outputs": [
    {
     "data": {
      "text/plain": [
       "['3320678',\n",
       " '18788370',\n",
       " '909143',\n",
       " '907683',\n",
       " '876101',\n",
       " '158434583',\n",
       " '493023',\n",
       " '882308',\n",
       " '48425944',\n",
       " '34783992']"
      ]
     },
     "execution_count": 61,
     "metadata": {},
     "output_type": "execute_result"
    }
   ],
   "source": [
    "males1[:10]"
   ]
  },
  {
   "cell_type": "code",
   "execution_count": 52,
   "metadata": {},
   "outputs": [],
   "source": [
    "all_females, all_males, all_ages = av.merge_data(females1, males1, female_ages1, v_sch_fem, v_sch_mal, v_sch_ages)"
   ]
  },
  {
   "cell_type": "code",
   "execution_count": 53,
   "metadata": {
    "scrolled": false
   },
   "outputs": [
    {
     "data": {
      "image/png": "[encoded data removed]",
      "text/plain": [
       "<Figure size 1152x576 with 1 Axes>"
      ]
     },
     "metadata": {
      "needs_background": "light"
     },
     "output_type": "display_data"
    }
   ],
   "source": [
    "females, males, ages = av.group_sort(all_females, all_males, all_ages, count = 100000)"
   ]
  },
  {
   "cell_type": "code",
   "execution_count": 67,
   "metadata": {},
   "outputs": [
    {
     "data": {
      "text/plain": [
       "['531845381',\n",
       " '531858265',\n",
       " '511857403',\n",
       " '501859108',\n",
       " '391781820',\n",
       " '581905509',\n",
       " '351742592',\n",
       " '471780040',\n",
       " '566348514',\n",
       " '456346372']"
      ]
     },
     "execution_count": 67,
     "metadata": {},
     "output_type": "execute_result"
    }
   ],
   "source": [
    "males[:10]"
   ]
  },
  {
   "cell_type": "code",
   "execution_count": 68,
   "metadata": {},
   "outputs": [],
   "source": [
    "av.write_to_file(users = males, path ='Sample/tmp/7-verified_users_and_schoolers_males.txt')\n",
    "av.write_to_file(users = females, path ='Sample/tmp/7-verified_users_and_schoolers_females.txt')\n",
    "av.write_to_file(users = ages, path ='Sample/tmp/7-verified_users_and_schoolers_ages.txt')\n",
    "\n",
    "av.write_to_file(users = males, pairs = females, path ='Sample/3-Final_sorted_users_and_pairs.txt')\n",
    "av.write_to_file(users = ages, path ='Sample/3-Final_sorted_ages.txt')"
   ]
  },
  {
   "cell_type": "markdown",
   "metadata": {},
   "source": [
    "## Работа с выборкой New_Sample"
   ]
  },
  {
   "cell_type": "code",
   "execution_count": 1,
   "metadata": {},
   "outputs": [],
   "source": [
    "from sample_preparing import user_info_verification as av"
   ]
  },
  {
   "cell_type": "code",
   "execution_count": 2,
   "metadata": {},
   "outputs": [
    {
     "name": "stdout",
     "output_type": "stream",
     "text": [
      "6738\n"
     ]
    }
   ],
   "source": [
    "sch_fem = av.read_vk_csv('New_Sample/Schoolers/4-females_info.csv')\n",
    "print(len(sch_fem))"
   ]
  },
  {
   "cell_type": "code",
   "execution_count": 3,
   "metadata": {},
   "outputs": [
    {
     "name": "stdout",
     "output_type": "stream",
     "text": [
      "5162\n"
     ]
    }
   ],
   "source": [
    "sch_mal = av.read_vk_csv('New_Sample/Schoolers/4-males_info.csv')\n",
    "print(len(sch_mal))"
   ]
  },
  {
   "cell_type": "code",
   "execution_count": 4,
   "metadata": {},
   "outputs": [
    {
     "name": "stdout",
     "output_type": "stream",
     "text": [
      "11459\n"
     ]
    },
    {
     "data": {
      "text/html": [
       "<div>\n",
       "<style scoped>\n",
       "    .dataframe tbody tr th:only-of-type {\n",
       "        vertical-align: middle;\n",
       "    }\n",
       "\n",
       "    .dataframe tbody tr th {\n",
       "        vertical-align: top;\n",
       "    }\n",
       "\n",
       "    .dataframe thead th {\n",
       "        text-align: right;\n",
       "    }\n",
       "</style>\n",
       "<table border=\"1\" class=\"dataframe\">\n",
       "  <thead>\n",
       "    <tr style=\"text-align: right;\">\n",
       "      <th></th>\n",
       "      <th>female_id</th>\n",
       "      <th>female_bdate</th>\n",
       "      <th>male_id</th>\n",
       "      <th>male_bdate</th>\n",
       "    </tr>\n",
       "  </thead>\n",
       "  <tbody>\n",
       "    <tr>\n",
       "      <th>0</th>\n",
       "      <td>567787413</td>\n",
       "      <td>2004</td>\n",
       "      <td>215448854</td>\n",
       "      <td>NaN</td>\n",
       "    </tr>\n",
       "    <tr>\n",
       "      <th>1</th>\n",
       "      <td>507795486</td>\n",
       "      <td>2003</td>\n",
       "      <td>238595074</td>\n",
       "      <td>NaN</td>\n",
       "    </tr>\n",
       "    <tr>\n",
       "      <th>2</th>\n",
       "      <td>567788124</td>\n",
       "      <td>2005</td>\n",
       "      <td>356537203</td>\n",
       "      <td>NaN</td>\n",
       "    </tr>\n",
       "    <tr>\n",
       "      <th>3</th>\n",
       "      <td>327827551</td>\n",
       "      <td>2004</td>\n",
       "      <td>443681469</td>\n",
       "      <td>NaN</td>\n",
       "    </tr>\n",
       "    <tr>\n",
       "      <th>4</th>\n",
       "      <td>387832611</td>\n",
       "      <td>2002</td>\n",
       "      <td>288111660</td>\n",
       "      <td>NaN</td>\n",
       "    </tr>\n",
       "  </tbody>\n",
       "</table>\n",
       "</div>"
      ],
      "text/plain": [
       "   female_id female_bdate    male_id male_bdate\n",
       "0  567787413         2004  215448854        NaN\n",
       "1  507795486         2003  238595074        NaN\n",
       "2  567788124         2005  356537203        NaN\n",
       "3  327827551         2004  443681469        NaN\n",
       "4  387832611         2002  288111660        NaN"
      ]
     },
     "execution_count": 4,
     "metadata": {},
     "output_type": "execute_result"
    }
   ],
   "source": [
    "schoolers = av.merge_data(sch_fem, sch_mal)\n",
    "print(len(schoolers))\n",
    "schoolers.head()"
   ]
  },
  {
   "cell_type": "code",
   "execution_count": 5,
   "metadata": {},
   "outputs": [
    {
     "name": "stdout",
     "output_type": "stream",
     "text": [
      "27654\n"
     ]
    },
    {
     "data": {
      "text/html": [
       "<div>\n",
       "<style scoped>\n",
       "    .dataframe tbody tr th:only-of-type {\n",
       "        vertical-align: middle;\n",
       "    }\n",
       "\n",
       "    .dataframe tbody tr th {\n",
       "        vertical-align: top;\n",
       "    }\n",
       "\n",
       "    .dataframe thead th {\n",
       "        text-align: right;\n",
       "    }\n",
       "</style>\n",
       "<table border=\"1\" class=\"dataframe\">\n",
       "  <thead>\n",
       "    <tr style=\"text-align: right;\">\n",
       "      <th></th>\n",
       "      <th>female_id</th>\n",
       "      <th>female_bdate</th>\n",
       "      <th>male_id</th>\n",
       "    </tr>\n",
       "  </thead>\n",
       "  <tbody>\n",
       "    <tr>\n",
       "      <th>0</th>\n",
       "      <td>1912</td>\n",
       "      <td>1989</td>\n",
       "      <td>907683</td>\n",
       "    </tr>\n",
       "    <tr>\n",
       "      <th>1</th>\n",
       "      <td>7216</td>\n",
       "      <td>1987</td>\n",
       "      <td>34783992</td>\n",
       "    </tr>\n",
       "    <tr>\n",
       "      <th>2</th>\n",
       "      <td>11865</td>\n",
       "      <td>1986</td>\n",
       "      <td>115116</td>\n",
       "    </tr>\n",
       "    <tr>\n",
       "      <th>3</th>\n",
       "      <td>13966</td>\n",
       "      <td>1988</td>\n",
       "      <td>498703</td>\n",
       "    </tr>\n",
       "    <tr>\n",
       "      <th>4</th>\n",
       "      <td>14024</td>\n",
       "      <td>1988</td>\n",
       "      <td>1346014</td>\n",
       "    </tr>\n",
       "  </tbody>\n",
       "</table>\n",
       "</div>"
      ],
      "text/plain": [
       "  female_id female_bdate   male_id\n",
       "0      1912         1989    907683\n",
       "1      7216         1987  34783992\n",
       "2     11865         1986    115116\n",
       "3     13966         1988    498703\n",
       "4     14024         1988   1346014"
      ]
     },
     "execution_count": 5,
     "metadata": {},
     "output_type": "execute_result"
    }
   ],
   "source": [
    "adults = av.read_vk_csv('New_Sample/Adults/5-filtered_pairs_of_males_info.csv')\n",
    "print(len(adults))\n",
    "adults.head()"
   ]
  },
  {
   "cell_type": "code",
   "execution_count": 6,
   "metadata": {},
   "outputs": [
    {
     "name": "stdout",
     "output_type": "stream",
     "text": [
      "39057\n"
     ]
    },
    {
     "data": {
      "text/html": [
       "<div>\n",
       "<style scoped>\n",
       "    .dataframe tbody tr th:only-of-type {\n",
       "        vertical-align: middle;\n",
       "    }\n",
       "\n",
       "    .dataframe tbody tr th {\n",
       "        vertical-align: top;\n",
       "    }\n",
       "\n",
       "    .dataframe thead th {\n",
       "        text-align: right;\n",
       "    }\n",
       "</style>\n",
       "<table border=\"1\" class=\"dataframe\">\n",
       "  <thead>\n",
       "    <tr style=\"text-align: right;\">\n",
       "      <th></th>\n",
       "      <th>female_id</th>\n",
       "      <th>female_bdate</th>\n",
       "      <th>male_id</th>\n",
       "      <th>male_bdate</th>\n",
       "    </tr>\n",
       "  </thead>\n",
       "  <tbody>\n",
       "    <tr>\n",
       "      <th>0</th>\n",
       "      <td>567787413</td>\n",
       "      <td>2004</td>\n",
       "      <td>215448854</td>\n",
       "      <td>NaN</td>\n",
       "    </tr>\n",
       "    <tr>\n",
       "      <th>1</th>\n",
       "      <td>507795486</td>\n",
       "      <td>2003</td>\n",
       "      <td>238595074</td>\n",
       "      <td>NaN</td>\n",
       "    </tr>\n",
       "    <tr>\n",
       "      <th>2</th>\n",
       "      <td>567788124</td>\n",
       "      <td>2005</td>\n",
       "      <td>356537203</td>\n",
       "      <td>NaN</td>\n",
       "    </tr>\n",
       "    <tr>\n",
       "      <th>3</th>\n",
       "      <td>327827551</td>\n",
       "      <td>2004</td>\n",
       "      <td>443681469</td>\n",
       "      <td>NaN</td>\n",
       "    </tr>\n",
       "    <tr>\n",
       "      <th>4</th>\n",
       "      <td>387832611</td>\n",
       "      <td>2002</td>\n",
       "      <td>288111660</td>\n",
       "      <td>NaN</td>\n",
       "    </tr>\n",
       "  </tbody>\n",
       "</table>\n",
       "</div>"
      ],
      "text/plain": [
       "   female_id female_bdate    male_id male_bdate\n",
       "0  567787413         2004  215448854        NaN\n",
       "1  507795486         2003  238595074        NaN\n",
       "2  567788124         2005  356537203        NaN\n",
       "3  327827551         2004  443681469        NaN\n",
       "4  387832611         2002  288111660        NaN"
      ]
     },
     "execution_count": 6,
     "metadata": {},
     "output_type": "execute_result"
    }
   ],
   "source": [
    "all_people = av.merge_data(schoolers, adults)\n",
    "print(len(all_people))\n",
    "all_people.head()"
   ]
  },
  {
   "cell_type": "code",
   "execution_count": 7,
   "metadata": {},
   "outputs": [],
   "source": [
    "av.write_to_file(all_people, 'New_Sample/all_people.csv')"
   ]
  },
  {
   "cell_type": "markdown",
   "metadata": {},
   "source": [
    "Merge verified users files"
   ]
  },
  {
   "cell_type": "code",
   "execution_count": 23,
   "metadata": {},
   "outputs": [],
   "source": [
    "import pandas as pd\n",
    "from sample_preparing import user_info_verification as av"
   ]
  },
  {
   "cell_type": "code",
   "execution_count": 26,
   "metadata": {},
   "outputs": [],
   "source": [
    "v_users1 = pd.read_csv('Sample/tmp/1-ver_sub_users.csv', index_col=0)\n",
    "v_users2 = pd.read_csv('Sample/tmp/2-ver_sub_users.csv', index_col=0)\n",
    "v_users3 = pd.read_csv('Sample/tmp/3-ver_sub_users.csv', index_col=0)\n",
    "v_users4 = pd.read_csv('Sample/tmp/4-ver_sub_users.csv', index_col=0)"
   ]
  },
  {
   "cell_type": "code",
   "execution_count": 27,
   "metadata": {},
   "outputs": [],
   "source": [
    "v_users12= av.merge_data(v_users1, v_users2)\n",
    "v_users123= av.merge_data(v_users12, v_users3)\n",
    "all_verified_sub_users= av.merge_data(v_users123, v_users4).reset_index(drop=True)"
   ]
  },
  {
   "cell_type": "code",
   "execution_count": 29,
   "metadata": {},
   "outputs": [
    {
     "data": {
      "image/png": "[encoded data removed]",
      "text/plain": [
       "<Figure size 1152x576 with 1 Axes>"
      ]
     },
     "metadata": {
      "needs_background": "light"
     },
     "output_type": "display_data"
    }
   ],
   "source": [
    "final_sorted_sub_sample = av.group_sort(all_verified_sub_users)"
   ]
  },
  {
   "cell_type": "code",
   "execution_count": 30,
   "metadata": {},
   "outputs": [],
   "source": [
    "\n",
    "av.write_to_file(final_sorted_sub_sample,'New_Sample/final_sorted_sub_sample.csv')"
   ]
  },
  {
   "cell_type": "code",
   "execution_count": 11,
   "metadata": {},
   "outputs": [
    {
     "data": {
      "text/plain": [
       "False"
      ]
     },
     "execution_count": 11,
     "metadata": {},
     "output_type": "execute_result"
    }
   ],
   "source": [
    "av.contains_duplicates(final_sorted_sample)"
   ]
  },
  {
   "cell_type": "markdown",
   "metadata": {},
   "source": [
    "## Перепроверка final sorted sample"
   ]
  },
  {
   "cell_type": "code",
   "execution_count": 2,
   "metadata": {},
   "outputs": [],
   "source": [
    "import pandas as pd\n",
    "from sample_preparing import user_info_verification as av"
   ]
  },
  {
   "cell_type": "code",
   "execution_count": 5,
   "metadata": {},
   "outputs": [],
   "source": [
    "final_sorted_sample = pd.read_csv('New_Sample/final_sorted_sample.csv', index_col=0)"
   ]
  },
  {
   "cell_type": "code",
   "execution_count": 8,
   "metadata": {},
   "outputs": [
    {
     "data": {
      "text/html": [
       "<div>\n",
       "<style scoped>\n",
       "    .dataframe tbody tr th:only-of-type {\n",
       "        vertical-align: middle;\n",
       "    }\n",
       "\n",
       "    .dataframe tbody tr th {\n",
       "        vertical-align: top;\n",
       "    }\n",
       "\n",
       "    .dataframe thead th {\n",
       "        text-align: right;\n",
       "    }\n",
       "</style>\n",
       "<table border=\"1\" class=\"dataframe\">\n",
       "  <thead>\n",
       "    <tr style=\"text-align: right;\">\n",
       "      <th></th>\n",
       "      <th>male_id</th>\n",
       "      <th>male_bdate</th>\n",
       "      <th>female_id</th>\n",
       "      <th>female_bdate</th>\n",
       "    </tr>\n",
       "  </thead>\n",
       "  <tbody>\n",
       "    <tr>\n",
       "      <th>3233</th>\n",
       "      <td>99635158</td>\n",
       "      <td>1990</td>\n",
       "      <td>507102476</td>\n",
       "      <td>1993</td>\n",
       "    </tr>\n",
       "    <tr>\n",
       "      <th>3234</th>\n",
       "      <td>190268209</td>\n",
       "      <td>1989</td>\n",
       "      <td>511980899</td>\n",
       "      <td>1994</td>\n",
       "    </tr>\n",
       "    <tr>\n",
       "      <th>3235</th>\n",
       "      <td>23086881</td>\n",
       "      <td>1988</td>\n",
       "      <td>491229304</td>\n",
       "      <td>1991</td>\n",
       "    </tr>\n",
       "    <tr>\n",
       "      <th>3236</th>\n",
       "      <td>478205863</td>\n",
       "      <td>1987</td>\n",
       "      <td>479740140</td>\n",
       "      <td>1983</td>\n",
       "    </tr>\n",
       "    <tr>\n",
       "      <th>3237</th>\n",
       "      <td>20240162</td>\n",
       "      <td>1986</td>\n",
       "      <td>472099439</td>\n",
       "      <td>1989</td>\n",
       "    </tr>\n",
       "  </tbody>\n",
       "</table>\n",
       "</div>"
      ],
      "text/plain": [
       "        male_id  male_bdate  female_id  female_bdate\n",
       "3233   99635158        1990  507102476          1993\n",
       "3234  190268209        1989  511980899          1994\n",
       "3235   23086881        1988  491229304          1991\n",
       "3236  478205863        1987  479740140          1983\n",
       "3237   20240162        1986  472099439          1989"
      ]
     },
     "execution_count": 8,
     "metadata": {},
     "output_type": "execute_result"
    }
   ],
   "source": [
    "already_proccessed = final_sorted_sample[:3238]\n",
    "already_proccessed.tail()                       "
   ]
  },
  {
   "cell_type": "code",
   "execution_count": 18,
   "metadata": {},
   "outputs": [],
   "source": [
    "all_people = pd.read_csv('New_Sample/all_people.csv', index_col=0)\n",
    "substracted_df=pd.concat([all_people, already_proccessed], sort =False)\n",
    "substracted_df.drop_duplicates(subset='male_id', keep=False)\n",
    "substracted_df=substracted_df.drop_duplicates(subset='female_id', keep=False).reset_index(drop=True)"
   ]
  },
  {
   "cell_type": "code",
   "execution_count": 19,
   "metadata": {},
   "outputs": [
    {
     "name": "stdout",
     "output_type": "stream",
     "text": [
      "39057\n",
      "3238\n",
      "35819\n"
     ]
    }
   ],
   "source": [
    "print(len(all_people))\n",
    "print(len(already_proccessed))\n",
    "print(len(substracted_df))"
   ]
  },
  {
   "cell_type": "code",
   "execution_count": 22,
   "metadata": {},
   "outputs": [],
   "source": [
    "av.write_to_file(substracted_df,'New_Sample/substracted_people.csv')"
   ]
  },
  {
   "cell_type": "markdown",
   "metadata": {},
   "source": [
    "Проверим final_sorted_sample на наличие дубликатов:"
   ]
  },
  {
   "cell_type": "code",
   "execution_count": 5,
   "metadata": {},
   "outputs": [],
   "source": [
    "final_sorted_sample = pd.read_csv('New_Sample/final_sorted_sample.csv',index_col=0)"
   ]
  },
  {
   "cell_type": "code",
   "execution_count": 6,
   "metadata": {},
   "outputs": [
    {
     "name": "stdout",
     "output_type": "stream",
     "text": [
      "19763\n",
      "19763\n"
     ]
    }
   ],
   "source": [
    "f_sort_s = final_sorted_sample.drop_duplicates(subset='male_id').drop_duplicates(subset='female_id')\n",
    "print(len(f_sort_s))\n",
    "print(len(final_sorted_sample))"
   ]
  },
  {
   "cell_type": "markdown",
   "metadata": {},
   "source": [
    "Дубликаты отсутствуют"
   ]
  },
  {
   "cell_type": "markdown",
   "metadata": {},
   "source": [
    "## Создание словарей имен"
   ]
  },
  {
   "cell_type": "code",
   "execution_count": 69,
   "metadata": {},
   "outputs": [],
   "source": [
    "import pandas as pd\n",
    "from sample_preparing import user_info_verification as av"
   ]
  },
  {
   "cell_type": "code",
   "execution_count": 82,
   "metadata": {},
   "outputs": [],
   "source": [
    "dfru = pd.read_csv('Names_List/FakeNameGenerator_ru.csv')\n",
    "dfen = pd.read_csv('Names_List/FakeNameGenerator_en.csv')\n",
    "ru_names2 = pd.read_csv('Names_List/russian_names.csv', delimiter=';', index_col=0)\n",
    "# ru_fam = pd.read_csv('Names_List/russian_surnames.csv', delimiter=';', index_col=0)\n",
    "\n",
    "ru_male_names1 = [s.replace('ё','е').replace(chr(769),'').lower() for s in dfru[dfru['Gender'] == 'male']['GivenName']]\n",
    "ru_male_names2 = [s.replace('ё','е').replace(chr(769),'').lower() for s in ru_names[ru_names2['Sex'] == 'М']['Name']]\n",
    "ru_male_surnames_endings = set(s.replace(chr(769),'')[-2:].replace('ё','е').lower() for s in dfru[dfru['Gender'] == 'male']['Surname'])\n",
    "\n",
    "ru_female_names1 = [s.replace('ё','е').replace(chr(769),'').lower() for s in dfru[dfru['Gender'] == 'female']['GivenName']]\n",
    "ru_female_names2 = [s.replace('ё','е').replace(chr(769),'').lower() for s in ru_names[ru_names2['Sex'] == 'Ж']['Name']]\n",
    "ru_female_surnames_endings = set(s.replace(chr(769),'')[-2:].replace('ё','е').lower() for s in dfru[dfru['Gender'] == 'female']['Surname'])\n",
    "\n",
    "en_male_names = set(s.replace('ё','е').replace(chr(769),'').lower() for s in dfen[dfen['Gender'] == 'male']['GivenName'])\n",
    "en_male_surnames_endings = set(s[-2:].replace(chr(769),'').lower() for s in dfen[dfen['Gender'] == 'male']['Surname'])\n",
    "\n",
    "en_female_names = set(s.replace(chr(769),'').lower() for s in dfen[dfen['Gender'] == 'female']['GivenName'])\n",
    "en_female_surnames_endings = set(s[-2:].replace(chr(769),'').lower() for s in dfen[dfen['Gender'] == 'female']['Surname'])\n",
    "\n"
   ]
  },
  {
   "cell_type": "code",
   "execution_count": 119,
   "metadata": {},
   "outputs": [],
   "source": [
    "with open('Names_List/russian_names2.csv', encoding='Windows-1251') as file:\n",
    "    names = av._trim_list(file.read().split('\\n'))\n",
    "\n",
    "ru_male_names3=[]\n",
    "ru_female_names3=[]\n",
    "for i, d_name in enumerate(names):\n",
    "    sex_id = d_name.find(';')-1\n",
    "    sex = d_name[sex_id]\n",
    "    name_start = sex_id+4\n",
    "    d_name = d_name[name_start:]\n",
    "    name_end = d_name.find(\"\\\"\")\n",
    "    name = d_name[:name_end]\n",
    "    \n",
    "    if sex == '1':\n",
    "        ru_female_names3.append(name.lower())\n",
    "    elif sex == '2':\n",
    "        ru_male_names3.append(name.lower())\n",
    "    else:\n",
    "        print('Unexpected')\n",
    "        break"
   ]
  },
  {
   "cell_type": "code",
   "execution_count": 120,
   "metadata": {},
   "outputs": [
    {
     "name": "stdout",
     "output_type": "stream",
     "text": [
      "2417\n",
      "2362\n"
     ]
    }
   ],
   "source": [
    "print(len(ru_male_names3))\n",
    "print(len(ru_female_names3))"
   ]
  },
  {
   "cell_type": "code",
   "execution_count": 121,
   "metadata": {},
   "outputs": [],
   "source": [
    "ru_male_names = set(ru_male_names1 + ru_male_names2 + ru_male_names3)\n",
    "ru_female_names = set(ru_female_names1 + ru_female_names2 + ru_female_names3)"
   ]
  },
  {
   "cell_type": "code",
   "execution_count": 133,
   "metadata": {},
   "outputs": [
    {
     "name": "stdout",
     "output_type": "stream",
     "text": [
      "28610\n",
      "24625\n"
     ]
    },
    {
     "data": {
      "text/plain": [
       "True"
      ]
     },
     "execution_count": 133,
     "metadata": {},
     "output_type": "execute_result"
    }
   ],
   "source": [
    "print(len(ru_male_names))\n",
    "print(len(ru_female_names))\n",
    "\n",
    "'саша' in ru_male_names"
   ]
  },
  {
   "cell_type": "code",
   "execution_count": 128,
   "metadata": {},
   "outputs": [],
   "source": [
    "\n",
    "names_dict={}\n",
    "for i, name in enumerate(ru_male_names):\n",
    "    names_dict[i] = {'names':name.lower(), 'sex':'male'}\n",
    "y=i\n",
    "\n",
    "for i, name in enumerate(ru_female_names):\n",
    "    k = y+i\n",
    "    names_dict[k] = {'names':name.lower(), 'sex':'female'}\n",
    "\n",
    "names_df = pd.DataFrame.from_dict(names_dict, orient='index')"
   ]
  },
  {
   "cell_type": "code",
   "execution_count": 129,
   "metadata": {},
   "outputs": [
    {
     "data": {
      "text/html": [
       "<div>\n",
       "<style scoped>\n",
       "    .dataframe tbody tr th:only-of-type {\n",
       "        vertical-align: middle;\n",
       "    }\n",
       "\n",
       "    .dataframe tbody tr th {\n",
       "        vertical-align: top;\n",
       "    }\n",
       "\n",
       "    .dataframe thead th {\n",
       "        text-align: right;\n",
       "    }\n",
       "</style>\n",
       "<table border=\"1\" class=\"dataframe\">\n",
       "  <thead>\n",
       "    <tr style=\"text-align: right;\">\n",
       "      <th></th>\n",
       "      <th>names</th>\n",
       "      <th>sex</th>\n",
       "    </tr>\n",
       "  </thead>\n",
       "  <tbody>\n",
       "    <tr>\n",
       "      <th>0</th>\n",
       "      <td>наимгран</td>\n",
       "      <td>male</td>\n",
       "    </tr>\n",
       "    <tr>\n",
       "      <th>1</th>\n",
       "      <td>гюльмамед</td>\n",
       "      <td>male</td>\n",
       "    </tr>\n",
       "    <tr>\n",
       "      <th>2</th>\n",
       "      <td>маттур</td>\n",
       "      <td>male</td>\n",
       "    </tr>\n",
       "    <tr>\n",
       "      <th>3</th>\n",
       "      <td>сатим</td>\n",
       "      <td>male</td>\n",
       "    </tr>\n",
       "    <tr>\n",
       "      <th>4</th>\n",
       "      <td>винстон</td>\n",
       "      <td>male</td>\n",
       "    </tr>\n",
       "  </tbody>\n",
       "</table>\n",
       "</div>"
      ],
      "text/plain": [
       "       names   sex\n",
       "0   наимгран  male\n",
       "1  гюльмамед  male\n",
       "2     маттур  male\n",
       "3      сатим  male\n",
       "4    винстон  male"
      ]
     },
     "execution_count": 129,
     "metadata": {},
     "output_type": "execute_result"
    }
   ],
   "source": [
    "names_df.head()"
   ]
  },
  {
   "cell_type": "code",
   "execution_count": 130,
   "metadata": {},
   "outputs": [
    {
     "data": {
      "text/html": [
       "<div>\n",
       "<style scoped>\n",
       "    .dataframe tbody tr th:only-of-type {\n",
       "        vertical-align: middle;\n",
       "    }\n",
       "\n",
       "    .dataframe tbody tr th {\n",
       "        vertical-align: top;\n",
       "    }\n",
       "\n",
       "    .dataframe thead th {\n",
       "        text-align: right;\n",
       "    }\n",
       "</style>\n",
       "<table border=\"1\" class=\"dataframe\">\n",
       "  <thead>\n",
       "    <tr style=\"text-align: right;\">\n",
       "      <th></th>\n",
       "      <th>names</th>\n",
       "      <th>sex</th>\n",
       "    </tr>\n",
       "  </thead>\n",
       "  <tbody>\n",
       "    <tr>\n",
       "      <th>53229</th>\n",
       "      <td>гервасия</td>\n",
       "      <td>female</td>\n",
       "    </tr>\n",
       "    <tr>\n",
       "      <th>53230</th>\n",
       "      <td>джоана</td>\n",
       "      <td>female</td>\n",
       "    </tr>\n",
       "    <tr>\n",
       "      <th>53231</th>\n",
       "      <td>катерына</td>\n",
       "      <td>female</td>\n",
       "    </tr>\n",
       "    <tr>\n",
       "      <th>53232</th>\n",
       "      <td>ксанта</td>\n",
       "      <td>female</td>\n",
       "    </tr>\n",
       "    <tr>\n",
       "      <th>53233</th>\n",
       "      <td>плотонида</td>\n",
       "      <td>female</td>\n",
       "    </tr>\n",
       "  </tbody>\n",
       "</table>\n",
       "</div>"
      ],
      "text/plain": [
       "           names     sex\n",
       "53229   гервасия  female\n",
       "53230     джоана  female\n",
       "53231   катерына  female\n",
       "53232     ксанта  female\n",
       "53233  плотонида  female"
      ]
     },
     "execution_count": 130,
     "metadata": {},
     "output_type": "execute_result"
    }
   ],
   "source": [
    "names_df.tail()"
   ]
  },
  {
   "cell_type": "code",
   "execution_count": 131,
   "metadata": {},
   "outputs": [],
   "source": [
    "names_df.to_csv('Names_List/final_merged_ru_names_list.csv')"
   ]
  }
 ],
 "metadata": {
  "kernelspec": {
   "display_name": "Python 3",
   "language": "python",
   "name": "python3"
  },
  "language_info": {
   "codemirror_mode": {
    "name": "ipython",
    "version": 3
   },
   "file_extension": ".py",
   "mimetype": "text/x-python",
   "name": "python",
   "nbconvert_exporter": "python",
   "pygments_lexer": "ipython3",
   "version": "3.7.4"
  }
 },
 "nbformat": 4,
 "nbformat_minor": 2
}

{
 "cells": [
  {
   "cell_type": "code",
   "execution_count": 6,
   "metadata": {},
   "outputs": [
    {
     "name": "stdout",
     "output_type": "stream",
     "text": [
      "Exception! Translating timed out. Retrying...\n",
      "EOF\n",
      "0\n"
     ]
    }
   ],
   "source": [
    "import json\n",
    "from sample_preparing.gender_verification import has_correct_gender\n",
    "\n",
    "wrong=0\n",
    "with open('data/users.txt','r') as f_r:\n",
    "    with open('data/rechecked_users.txt','w') as f_w:\n",
    "        while True:\n",
    "            user = f_r.readline()\n",
    "            if not user:\n",
    "                print(\"EOF\")\n",
    "                break\n",
    "            user = json.loads(user)\n",
    "            if has_correct_gender(user['sex'], user['first_name'], user['last_name']):\n",
    "                f_w.write('{}/n'.format(json.dumps(user)))\n",
    "#                 print('correct')\n",
    "            else:\n",
    "                wrong+=1\n",
    "                print(wrong)\n",
    "print(wrong)\n",
    "            "
   ]
  },
  {
   "cell_type": "markdown",
   "metadata": {},
   "source": [
    "## Merge users and user2 files"
   ]
  },
  {
   "cell_type": "code",
   "execution_count": null,
   "metadata": {},
   "outputs": [],
   "source": [
    "with open('data/users1.txt','r') as f1, open('data/users.txt','r') as f2, open('data/users_merged.txt','w') as f3:\n",
    "    while True:\n",
    "        user = f2.readline()\n",
    "        if not user:\n",
    "            print(\"EOF 1\")\n",
    "            break\n",
    "        f3.write('{}/n'.format(user))\n",
    "    while True:\n",
    "        user = f1.readline()\n",
    "        if not user:\n",
    "            print(\"EOF 2\")\n",
    "            break\n",
    "        f3.write('{}/n'.format(user))"
   ]
  },
  {
   "cell_type": "code",
   "execution_count": null,
   "metadata": {},
   "outputs": [],
   "source": []
  }
 ],
 "metadata": {
  "kernelspec": {
   "display_name": "Python 3",
   "language": "python",
   "name": "python3"
  },
  "language_info": {
   "codemirror_mode": {
    "name": "ipython",
    "version": 3
   },
   "file_extension": ".py",
   "mimetype": "text/x-python",
   "name": "python",
   "nbconvert_exporter": "python",
   "pygments_lexer": "ipython3",
   "version": "3.7.4"
  }
 },
 "nbformat": 4,
 "nbformat_minor": 2
}
